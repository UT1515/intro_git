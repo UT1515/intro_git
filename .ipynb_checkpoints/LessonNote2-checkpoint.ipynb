{
 "cells": [
  {
   "cell_type": "code",
   "execution_count": 1,
   "metadata": {},
   "outputs": [
    {
     "name": "stdout",
     "output_type": "stream",
     "text": [
      "local\n",
      "global\n"
     ]
    }
   ],
   "source": [
    "# #12 変数のスコープを理解しよう\n",
    "# msg = \"global\"\n",
    "# def say_hi():\n",
    "#     msg = \"local\"\n",
    "#     print (msg)\n",
    "\n",
    "# say_hi()\n",
    "# print (msg)"
   ]
  },
  {
   "cell_type": "code",
   "execution_count": 2,
   "metadata": {},
   "outputs": [
    {
     "name": "stdout",
     "output_type": "stream",
     "text": [
      "global\n",
      "global\n"
     ]
    }
   ],
   "source": [
    "# #グルーバル変数は関数の中から参照可能\n",
    "# msg = \"global\"\n",
    "# def say_hi():\n",
    "#     print (msg)\n",
    "\n",
    "# say_hi()\n",
    "# print (msg)"
   ]
  },
  {
   "cell_type": "code",
   "execution_count": 3,
   "metadata": {},
   "outputs": [
    {
     "name": "stdout",
     "output_type": "stream",
     "text": [
      "fake global\n",
      "fake global\n"
     ]
    }
   ],
   "source": [
    "# #関数内の変数をグローバル扱いする場合\n",
    "# msg = \"global\"\n",
    "# def say_hi():\n",
    "#     global msg\n",
    "#     msg = \"fake global\"\n",
    "#     print (msg)\n",
    "\n",
    "# say_hi()\n",
    "# print (msg)"
   ]
  },
  {
   "cell_type": "code",
   "execution_count": 7,
   "metadata": {},
   "outputs": [
    {
     "name": "stdout",
     "output_type": "stream",
     "text": [
      "tom\n",
      "32\n"
     ]
    }
   ],
   "source": [
    "# #13 クラスを作ってみよう\n",
    "# class User: # class名(先頭は大文字)\n",
    "#     pass\n",
    "# tom = User() # 上で作ったuser型をtom変数へ入れる。\"インスタンス\"と呼ばれる。\n",
    "# tom.name = \"tom\"# 属性を加える\n",
    "# tom.age =\"32\"\n",
    "\n",
    "# print(tom.name)\n",
    "# print(tom.age)"
   ]
  },
  {
   "cell_type": "code",
   "execution_count": 9,
   "metadata": {},
   "outputs": [
    {
     "name": "stdout",
     "output_type": "stream",
     "text": [
      "tom\n",
      "bob\n"
     ]
    }
   ],
   "source": [
    "# #14 コンストラクタを使ってみよう\n",
    "# class User:\n",
    "#     def __init__(self, name): #インスタンス変数\n",
    "#         self.name = name\n",
    "# tom = User(\"tom\")\n",
    "# bob = User(\"bob\")\n",
    "\n",
    "# print(tom.name)\n",
    "# print(bob.name)"
   ]
  },
  {
   "cell_type": "code",
   "execution_count": 21,
   "metadata": {},
   "outputs": [
    {
     "name": "stdout",
     "output_type": "stream",
     "text": [
      "2 instances\n"
     ]
    }
   ],
   "source": [
    "# #16 メソッド(クラスに定義された関数)を使ってみよう\n",
    "# class User:\n",
    "#     count = 0\n",
    "#     def __init__(self, name):\n",
    "#         User.count += 1\n",
    "#         self.name = name\n",
    "#     # インスタンスメソッド\n",
    "#     def say_hi(self):\n",
    "#         print(\"hi {0}\".format(self.name))\n",
    "#     # クラスメソッド\n",
    "#     @classmethod\n",
    "#     def show_info(cls):\n",
    "#         print(\"{0} instances\".format(cls.count))\n",
    "\n",
    "# tom = User(\"tom\")\n",
    "# bob = User(\"bob\")\n",
    "\n",
    "# tom.say_hi()\n",
    "# bob.say_hi()\n",
    "\n",
    "# User.show_info()"
   ]
  },
  {
   "cell_type": "code",
   "execution_count": 34,
   "metadata": {},
   "outputs": [
    {
     "name": "stdout",
     "output_type": "stream",
     "text": [
      "40\n",
      "2\n",
      "[45, 50, 100]\n",
      "45\n",
      "50\n",
      "100\n",
      "0: 45\n",
      "1: 50\n",
      "2: 100\n"
     ]
    }
   ],
   "source": [
    "#23 リスト型を使ってみよう\n",
    "# リスト型、Tuple　-> 順序付きのデータ型\n",
    "#集合型 -> 順序なし、重複を許さない\n",
    "#辞書型　-> キーと値でデータ管理\n",
    "\n",
    "# #リスト型\n",
    "# #四角括弧、追加可能、同じ型を入れることが多い \n",
    "# scores = [40, 50]\n",
    "# print (scores [0]) # 40\n",
    "# scores [0] = 45\n",
    "# print (len(scores)) # 2\n",
    "# scores.append(100)\n",
    "# print (scores)\n",
    "\n",
    "# for score in scores: # 要素の表示\n",
    "#     print(score)\n",
    "    \n",
    "# for i, score in enumerate(scores):\n",
    "#     print(\"{0}: {1}\".format(i, score))"
   ]
  },
  {
   "cell_type": "code",
   "execution_count": 46,
   "metadata": {},
   "outputs": [
    {
     "name": "stdout",
     "output_type": "stream",
     "text": [
      "50\n",
      "[1, 3, 5]\n",
      "(1, 3, 5)\n"
     ]
    }
   ],
   "source": [
    "# #24 タプルを使ってみよう　\n",
    "# # 丸括弧、追加不可★重要★、異なるデータ型を入れることが多い\n",
    "# items = (50, \"apples\", 32.5)\n",
    "# print (items[0])\n",
    "# # items[0] = \"pen\"  Turplesは追加不可\n",
    "\n",
    "# #　リストとturpleの変換\n",
    "# print(list((1, 3, 5)))\n",
    "# print(tuple([1, 3, 5]))"
   ]
  },
  {
   "cell_type": "code",
   "execution_count": 48,
   "metadata": {},
   "outputs": [
    {
     "name": "stdout",
     "output_type": "stream",
     "text": [
      "[50, 70, 90]\n",
      "[40, 50]\n",
      "[90, 60]\n",
      "[70, 90, 60]\n",
      "ell\n"
     ]
    }
   ],
   "source": [
    "# #25 スライスで要素を切り出してみよう\n",
    "# scores = [40, 50, 70, 90, 60]\n",
    "# print(scores[1:4]) # 50, 70, 90\n",
    "# print(scores[:2]) # 40, 50\n",
    "# print(scores[3:]) # 90, 60\n",
    "# print(scores[-3:]) # 70, 90, 60\n",
    "\n",
    "# s = \"hello\"\n",
    "# print(s[1:4]) # ell"
   ]
  },
  {
   "cell_type": "code",
   "execution_count": 49,
   "metadata": {},
   "outputs": [
    {
     "name": "stdout",
     "output_type": "stream",
     "text": [
      "{8, 4, 5}\n",
      "True\n",
      "{8, 2, 4}\n",
      "3\n"
     ]
    }
   ],
   "source": [
    "# #26 集合型(set)を使ってみよう\n",
    "# # a = set([5, 4, 8, 5])\n",
    "# a = {5, 4, 8, 5}\n",
    "# print(a)\n",
    "# print(5 in a) # True \n",
    "# a.add(2)\n",
    "# a.remove(5)\n",
    "# print(a)\n",
    "# print(len(a))"
   ]
  },
  {
   "cell_type": "code",
   "execution_count": 50,
   "metadata": {},
   "outputs": [
    {
     "name": "stdout",
     "output_type": "stream",
     "text": [
      "{1, 2, 3, 4, 5}\n",
      "{1}\n",
      "{2, 3}\n"
     ]
    }
   ],
   "source": [
    "# a = {1, 2, 3}\n",
    "# b = {1, 4, 5}\n",
    "# print (a | b)\n",
    "# print (a & b)\n",
    "# print (a - b)"
   ]
  },
  {
   "cell_type": "code",
   "execution_count": null,
   "metadata": {
    "collapsed": true
   },
   "outputs": [],
   "source": [
    "#27 辞書型を使ってみよう"
   ]
  }
 ],
 "metadata": {
  "kernelspec": {
   "display_name": "Python 3",
   "language": "python",
   "name": "python3"
  },
  "language_info": {
   "codemirror_mode": {
    "name": "ipython",
    "version": 3
   },
   "file_extension": ".py",
   "mimetype": "text/x-python",
   "name": "python",
   "nbconvert_exporter": "python",
   "pygments_lexer": "ipython3",
   "version": "3.6.1"
  }
 },
 "nbformat": 4,
 "nbformat_minor": 2
}

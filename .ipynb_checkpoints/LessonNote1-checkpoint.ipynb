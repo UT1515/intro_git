{
 "cells": [
  {
   "cell_type": "code",
   "execution_count": 2,
   "metadata": {},
   "outputs": [
    {
     "name": "stdout",
     "output_type": "stream",
     "text": [
      "Hello World!\n",
      "Hello World!\n"
     ]
    }
   ],
   "source": [
    "#01 Pythonを使ってみよう\n",
    "#02 はじめてのPythonプログラム\n",
    "# printのやり方\n",
    "print(\"Hello World!\")\n",
    "print('Hello World!')"
   ]
  },
  {
   "cell_type": "code",
   "execution_count": 3,
   "metadata": {},
   "outputs": [
    {
     "name": "stdout",
     "output_type": "stream",
     "text": [
      "Hello World!\n",
      "Hello Again!\n"
     ]
    }
   ],
   "source": [
    "#03 変数を使ってみよう\n",
    "#変数と再代入\n",
    "msg = \"Hello World!\"\n",
    "print(msg)\n",
    "msg = \"Hello Again!\"\n",
    "print(msg)\n",
    "\n",
    "#定数\n",
    "ADMIN_EMAIL = \"ut@gmail.com\""
   ]
  },
  {
   "cell_type": "code",
   "execution_count": 6,
   "metadata": {},
   "outputs": [
    {
     "name": "stdout",
     "output_type": "stream",
     "text": [
      "He\n",
      "llo Wo\trld\n",
      "I\n",
      "am\n",
      "Sam\n"
     ]
    }
   ],
   "source": [
    "#04 さまざまなデータを扱ってみよう\n",
    "#文字列\n",
    "s = \"He\\nllo Wo\\trld\" # \\n改行、\\tタブ\n",
    "h = \"\"\"I\n",
    "am\n",
    "Sam\"\"\" # (\"\"\")複数行の文字列を変数へ\n",
    "print(s)\n",
    "print(h)"
   ]
  },
  {
   "cell_type": "code",
   "execution_count": 1,
   "metadata": {
    "collapsed": true
   },
   "outputs": [],
   "source": [
    "#整数\n",
    "i = 10\n",
    "#浮動小数点\n",
    "f = 10.5\n",
    "#論理値\n",
    "flag = True "
   ]
  },
  {
   "cell_type": "code",
   "execution_count": 3,
   "metadata": {},
   "outputs": [
    {
     "name": "stdout",
     "output_type": "stream",
     "text": [
      "3.3333333333333335\n",
      "3\n",
      "1\n",
      "100\n",
      "16\n",
      "False\n",
      "True\n",
      "False\n",
      "Hello world!\n",
      "HelloHelloHello\n"
     ]
    }
   ],
   "source": [
    "#05 データの演算をしてみよう\n",
    "#データの演算\n",
    "#+ - * / //  % **\n",
    "x = 10\n",
    "print(x / 3) # 3.33...\n",
    "print(x // 3) # 3\n",
    "print(x % 3) # 1\n",
    "print(x ** 2) # 100\n",
    "\n",
    "y = 4\n",
    "# y = y + 12\n",
    "y +=12\n",
    "print(y) # 16\n",
    "\n",
    "# and or not\n",
    "print (True and False) # False\n",
    "print (True or False) # True\n",
    "print (not True) # False\n",
    "\n",
    "# 文字列の演算 + * \n",
    "print (\"Hello\" + \" \" + \"world!\")\n",
    "print (\"Hello\" * 3)"
   ]
  },
  {
   "cell_type": "code",
   "execution_count": 25,
   "metadata": {
    "scrolled": true
   },
   "outputs": [
    {
     "name": "stdout",
     "output_type": "stream",
     "text": [
      "name: UT, iscore: 10, fscore: 52.800000\n",
      "name: UT, iscore: 10, fscore: 52.80     \n",
      "name: UT, iscore: 10, fscore: 52.8\n",
      "name: UT, iscore: 10, fscore: 52.80     \n"
     ]
    }
   ],
   "source": [
    "#06 文字列に値を埋め込んでみよう\n",
    "name = \"UT\"\n",
    "iscore = 10\n",
    "fscore = 52.8\n",
    "\n",
    "print(\"name: %s, iscore: %d, fscore: %f\" % (name, iscore, fscore))\n",
    "print(\"name: %s, iscore: %d, fscore: %-10.2f\" % (name, iscore, fscore)) # 10.2 10桁、小数点2桁まで。マイナスは左揃え\n",
    "print(\"name: {0}, iscore: {1}, fscore: {2}\" .format (name, iscore, fscore)) # 代替方法\n",
    "print(\"name: {0: <s}, iscore: {1: <d}, fscore: {2: <10.2f}\" .format (name, iscore, fscore)) #代替方法、桁数指定、揃え指定"
   ]
  },
  {
   "cell_type": "code",
   "execution_count": 37,
   "metadata": {
    "scrolled": true
   },
   "outputs": [
    {
     "name": "stdout",
     "output_type": "stream",
     "text": [
      "score? 10\n",
      "so so .... \n",
      "good\n"
     ]
    }
   ],
   "source": [
    "#07 ifで条件分岐をしてみよう\n",
    "score = int(input(\"score? \"))\n",
    "\n",
    "# > >= < <= == !=\n",
    "if score > 80:\n",
    "    print(\"great\")\n",
    "elif score > 60:\n",
    "    print(\"Good\")\n",
    "else:\n",
    "    print(\"so so .... \")\n",
    "\n",
    "print (\"great\" if score > 80 else \"good\") # if を1行で表記"
   ]
  },
  {
   "cell_type": "code",
   "execution_count": 46,
   "metadata": {},
   "outputs": [
    {
     "name": "stdout",
     "output_type": "stream",
     "text": [
      "0\n",
      "1\n",
      "2\n",
      "3\n",
      "4\n",
      "5\n",
      "6\n",
      "7\n",
      "8\n",
      "9\n",
      "end\n",
      "0\n",
      "1\n",
      "2\n",
      "3\n",
      "4\n"
     ]
    }
   ],
   "source": [
    "#08 whileでループ処理をしてみよう\n",
    "i = 0\n",
    "while i  < 10:\n",
    "    print(i)\n",
    "    i += 1\n",
    "else:\n",
    "    print(\"end\")\n",
    "    \n",
    "# 途中でループを抜ける\n",
    "i = 0\n",
    "while i  < 10:\n",
    "    if i  == 5:\n",
    "        break\n",
    "    print(i)\n",
    "    i += 1\n",
    "else:\n",
    "    print(\"end\")"
   ]
  },
  {
   "cell_type": "code",
   "execution_count": 51,
   "metadata": {},
   "outputs": [
    {
     "name": "stdout",
     "output_type": "stream",
     "text": [
      "0\n",
      "1\n",
      "2\n",
      "3\n",
      "4\n",
      "5\n",
      "6\n",
      "7\n",
      "8\n",
      "9\n",
      "end\n",
      "0\n",
      "1\n",
      "2\n",
      "3\n",
      "4\n",
      "0\n",
      "1\n",
      "2\n",
      "3\n",
      "4\n",
      "6\n",
      "7\n",
      "8\n",
      "9\n",
      "end\n"
     ]
    }
   ],
   "source": [
    "#09 forで繰り返し処理をしてみよう\n",
    "# for i in range(0, 10): 0-9まで\n",
    "for i in range(10): # 簡易表記\n",
    "    print(i)\n",
    "else:\n",
    "    print(\"end\")\n",
    "\n",
    "#ループを抜ける\n",
    "for i in range(10): \n",
    "    if i == 5:\n",
    "        break\n",
    "    print(i)\n",
    "else:\n",
    "    print(\"end\")\n",
    "\n",
    "#ループ中にスキップ\n",
    "for i in range(10): \n",
    "    if i == 5:\n",
    "        continue\n",
    "    print(i)\n",
    "else:\n",
    "    print(\"end\")"
   ]
  },
  {
   "cell_type": "code",
   "execution_count": 56,
   "metadata": {},
   "outputs": [
    {
     "name": "stdout",
     "output_type": "stream",
     "text": [
      "Hi\n",
      "hi Tom(23)\n",
      "hi Steve(20)\n",
      "hi Rick(18)\n"
     ]
    }
   ],
   "source": [
    "#10 関数を作ってみよう\n",
    "def say_hi():\n",
    "    print(\"Hi\")\n",
    "say_hi()\n",
    "\n",
    "#引数を設定\n",
    "def say_hi(name, age=20):\n",
    "    print(\"hi {0}({1})\" .format(name, age))\n",
    "    \n",
    "say_hi(\"Tom\", 23) # hi Tom(23)\n",
    "say_hi(\"Steve\") # hi Steve(20)\n",
    "say_hi(age = 18, name = \"Rick\")"
   ]
  },
  {
   "cell_type": "code",
   "execution_count": 64,
   "metadata": {
    "collapsed": true
   },
   "outputs": [
    {
     "name": "stdout",
     "output_type": "stream",
     "text": [
      "hi\n",
      "None\n"
     ]
    }
   ],
   "source": [
    "#11 関数の返り値を使ってみよう\n",
    "def say_hi():\n",
    "    return 'hi'\n",
    "    print(\"Hi\")\n",
    "\n",
    "msg = say_hi()\n",
    "print (msg)\n",
    "\n",
    "#関数の中身を空にするときはpassを使う\n",
    "def say_hi():\n",
    "#        pass\n",
    "#     return 'hi'\n",
    "#     print(\"Hi\")\n",
    "\n",
    "msg = say_hi()\n",
    "print (msg)\n"
   ]
  }
 ],
 "metadata": {
  "kernelspec": {
   "display_name": "Python 3",
   "language": "python",
   "name": "python3"
  },
  "language_info": {
   "codemirror_mode": {
    "name": "ipython",
    "version": 3
   },
   "file_extension": ".py",
   "mimetype": "text/x-python",
   "name": "python",
   "nbconvert_exporter": "python",
   "pygments_lexer": "ipython3",
   "version": "3.6.1"
  }
 },
 "nbformat": 4,
 "nbformat_minor": 2
}
